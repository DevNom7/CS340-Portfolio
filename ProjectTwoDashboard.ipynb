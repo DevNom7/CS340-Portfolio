#!/usr/bin/env python
# coding: utf-8

# In[1]:


# --- JupyterDash setup ---
from jupyter_dash import JupyterDash

# Dash / components
import dash_leaflet as dl
from dash import Dash, dcc, html, dash_table
from dash.dependencies import Input, Output, State
import plotly.express as px

# Utils
import pandas as pd
import numpy as np

# Use your finalized CRUD module (with query_for_rescue_type)
from crud import AnimalShelter

# =========================
# Data / Model
# =========================
username = "aacuser"
password = "MySecureAACpass123"

db = AnimalShelter(username, password)

# Common projection for clean table
PROJECTION = {
    "_id": 0,
    "animal_id": 1,
    "name": 1,
    "animal_type": 1,
    "breed": 1,
    "age_upon_outcome_in_weeks": 1,
    "sex_upon_outcome": 1,
    "outcome_type": 1,
    "outcome_subtype": 1,
    "location_lat": 1,
    "location_long": 1,
}

def get_all(limit=500):
    return pd.DataFrame(db.read_all(projection=PROJECTION, limit=limit))

def get_by_rescue(rescue: str, limit=500):
    q = db.query_for_rescue_type(rescue)
    if q == {}:
        return get_all(limit=limit)
    return pd.DataFrame(db.read(q, projection=PROJECTION, limit=limit))

# Initial data
df = get_all()

# =========================
# View / Layout
# =========================
app = JupyterDash(__name__)

app.layout = html.Div([
    # Header with logo (linked) + title
    html.Div([
        html.A(
            href="https://www.snhu.edu",
            children=html.Img(src="/assets/Grazioso Salvare Logo.png", style={"height": "60px"})
        ),
        html.H2("Grazioso Salvare — Dog Candidate Dashboard", style={"marginLeft": "10px"})
    ], style={"display": "flex", "alignItems": "center", "gap": "12px"}),

    html.Hr(),

    # Interactive filter control
    html.Div([
        html.Label("Rescue Type Filter"),
        dcc.RadioItems(
            id="filter-type",
            options=[
                {"label": "All (Reset)", "value": "All"},
                {"label": "Water Rescue", "value": "Water Rescue"},
                {"label": "Mountain or Wilderness Rescue", "value": "Mountain or Wilderness Rescue"},
                {"label": "Disaster or Individual Tracking", "value": "Disaster or Individual Tracking"},
            ],
            value="All",
            inline=True
        ),
        html.Div(id="filter-note", style={"marginTop": "6px", "fontSize": "12px", "color": "#555"})
    ], style={"maxWidth": "800px"}),

    html.Hr(),

    # Data table
    dash_table.DataTable(
        id='datatable-id',
        columns=[{"name": c, "id": c, "deletable": False, "selectable": True} for c in df.columns],
        data=df.to_dict('records'),
        page_size=10,
        sort_action="native",
        filter_action="native",
        row_selectable="single",
        style_table={"overflowX": "auto"},
        style_cell={"minWidth": "100px", "whiteSpace": "normal"}
    ),

    html.Br(),
    html.Hr(),

    # Charts row
    html.Div(className='row', style={'display': 'flex', 'flexWrap': 'wrap', 'gap': '18px'}, children=[
        html.Div(id='graph-id', className='col s12 m6', style={"flex": "1", "minWidth": "360px"}),
        html.Div(id='map-id', className='col s12 m6', style={"flex": "1", "minWidth": "360px"}),
    ]),

    html.Hr(),
    html.Div("Unique ID: Naim Lindsay — CS-340 Project Two", style={"fontSize": "12px", "color": "#444"})
])

# =========================
# Controller / Callbacks
# =========================

# 1) Update table when filter changes
@app.callback(
    Output('datatable-id', 'data'),
    Output('filter-note', 'children'),
    Input('filter-type', 'value')
)
def update_table(filter_type):
    if filter_type == "All":
        dff = get_all(limit=500)
        note = "Showing latest 500 records (unfiltered)."
    else:
        dff = get_by_rescue(filter_type, limit=500)
        note = f"Filter applied: {filter_type} (breeds + sex + age ranges per spec)"
    return dff.to_dict('records'), note


# 2) Pie chart of top breeds (responds to table’s current view)
@app.callback(
    Output('graph-id', "children"),
    Input('datatable-id', "derived_virtual_data")
)
def update_graphs(viewData):
    dff = pd.DataFrame(viewData) if viewData is not None else df.copy()
    if "breed" not in dff.columns or dff.empty:
        fig = px.bar(title="No breed data")
    else:
        top = dff["breed"].value_counts().head(8).reset_index().rename(columns={"index": "breed", "breed": "count"})
        fig = px.pie(top, names="breed", values="count", title="Top Breeds (current view)")
    return dcc.Graph(figure=fig)


# 3) Geolocation map (responds to table selection; defaults to first row)
@app.callback(
    Output('map-id', "children"),
    Input('datatable-id', "derived_virtual_data"),
    Input('datatable-id', "derived_virtual_selected_rows")
)
def update_map(viewData, selected_rows):
    if viewData is None or len(viewData) == 0:
        # Empty view
        return dl.Map(style={'width': '100%', 'height': '500px'}, center=[30.27, -97.74], zoom=10, children=[dl.TileLayer()])

    dff = pd.DataFrame(viewData)
    row_index = selected_rows[0] if selected_rows else 0
    row_index = min(row_index, len(dff) - 1)

    lat_col, lon_col = "location_lat", "location_long"
    name_col, breed_col = "name", "breed"

    lat = dff.loc[row_index, lat_col] if lat_col in dff.columns else None
    lon = dff.loc[row_index, lon_col] if lon_col in dff.columns else None

    # Fallback to Austin center if missing coords
    center = [float(lat), float(lon)] if pd.notna(lat) and pd.notna(lon) else [30.27, -97.74]

    marker_children = []
    if pd.notna(lat) and pd.notna(lon):
        tooltip = str(dff.loc[row_index, breed_col]) if breed_col in dff.columns else "Breed"
        popup_name = str(dff.loc[row_index, name_col]) if name_col in dff.columns else "Unknown"
        marker_children = [
            dl.Marker(position=[float(lat), float(lon)], children=[
                dl.Tooltip(tooltip),
                dl.Popup([html.H4("Animal Name"), html.P(popup_name)])
            ])
        ]

    return dl.Map(
        style={'width': '100%', 'height': '500px'},
        center=center,
        zoom=11,
        children=[dl.TileLayer(id="base-layer-id")] + marker_children
    )


# Run (in notebook cell)
# app.run_server(mode="inline", debug=False)


# In[2]:


from crud import AnimalShelter

shelter = AnimalShelter("aacuser", "MySecureAACpass123")

print("Total docs:", shelter.collection.count_documents({}))
print("One doc:", shelter.read({}, limit=1)[0])


# In[3]:


app.run_server(mode="inline", debug=False)


# In[ ]:




